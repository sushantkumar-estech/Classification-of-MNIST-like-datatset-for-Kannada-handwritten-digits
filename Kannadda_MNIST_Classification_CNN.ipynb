{
  "nbformat": 4,
  "nbformat_minor": 0,
  "metadata": {
    "colab": {
      "name": "Kannadda_MNIST_Classification_CNN.ipynb",
      "provenance": [],
      "authorship_tag": "ABX9TyMXuLwZwSl9sMk4z7uvE96K",
      "include_colab_link": true
    },
    "kernelspec": {
      "name": "python3",
      "display_name": "Python 3"
    },
    "accelerator": "GPU"
  },
  "cells": [
    {
      "cell_type": "markdown",
      "metadata": {
        "id": "view-in-github",
        "colab_type": "text"
      },
      "source": [
        "<a href=\"https://colab.research.google.com/github/sushantkumar-estech/Classification-of-MNIST-like-datatset-for-Kannada-handwritten-digits/blob/master/Kannadda_MNIST_Classification_CNN.ipynb\" target=\"_parent\"><img src=\"https://colab.research.google.com/assets/colab-badge.svg\" alt=\"Open In Colab\"/></a>"
      ]
    },
    {
      "cell_type": "code",
      "metadata": {
        "id": "dhBYY4yitrbw",
        "colab_type": "code",
        "colab": {}
      },
      "source": [
        "#!pip install tensorflow-gpu==2.0.0.alpha0"
      ],
      "execution_count": null,
      "outputs": []
    },
    {
      "cell_type": "code",
      "metadata": {
        "id": "8wHi517ZlTbU",
        "colab_type": "code",
        "colab": {}
      },
      "source": [
        "#https://www.kaggle.com/bustam/cnn-in-keras-for-kannada-digits"
      ],
      "execution_count": 40,
      "outputs": []
    },
    {
      "cell_type": "code",
      "metadata": {
        "id": "RlX2UqTxt6IQ",
        "colab_type": "code",
        "colab": {
          "base_uri": "https://localhost:8080/",
          "height": 765
        },
        "outputId": "d93a990c-7bf6-47f9-a7a2-e2943c84b52a"
      },
      "source": [
        "!pip install tensorflow\n",
        "try:\n",
        "  %tensorflow_version 1.x\n",
        "except Exception:\n",
        "  pass"
      ],
      "execution_count": 1,
      "outputs": [
        {
          "output_type": "stream",
          "text": [
            "Requirement already satisfied: tensorflow in /usr/local/lib/python3.6/dist-packages (2.3.0)\n",
            "Requirement already satisfied: keras-preprocessing<1.2,>=1.1.1 in /usr/local/lib/python3.6/dist-packages (from tensorflow) (1.1.2)\n",
            "Requirement already satisfied: grpcio>=1.8.6 in /usr/local/lib/python3.6/dist-packages (from tensorflow) (1.31.0)\n",
            "Requirement already satisfied: tensorboard<3,>=2.3.0 in /usr/local/lib/python3.6/dist-packages (from tensorflow) (2.3.0)\n",
            "Requirement already satisfied: wrapt>=1.11.1 in /usr/local/lib/python3.6/dist-packages (from tensorflow) (1.12.1)\n",
            "Requirement already satisfied: absl-py>=0.7.0 in /usr/local/lib/python3.6/dist-packages (from tensorflow) (0.9.0)\n",
            "Requirement already satisfied: scipy==1.4.1 in /usr/local/lib/python3.6/dist-packages (from tensorflow) (1.4.1)\n",
            "Collecting gast==0.3.3\n",
            "  Downloading https://files.pythonhosted.org/packages/d6/84/759f5dd23fec8ba71952d97bcc7e2c9d7d63bdc582421f3cd4be845f0c98/gast-0.3.3-py2.py3-none-any.whl\n",
            "Requirement already satisfied: termcolor>=1.1.0 in /usr/local/lib/python3.6/dist-packages (from tensorflow) (1.1.0)\n",
            "Requirement already satisfied: numpy<1.19.0,>=1.16.0 in /usr/local/lib/python3.6/dist-packages (from tensorflow) (1.18.5)\n",
            "Requirement already satisfied: six>=1.12.0 in /usr/local/lib/python3.6/dist-packages (from tensorflow) (1.15.0)\n",
            "Requirement already satisfied: tensorflow-estimator<2.4.0,>=2.3.0 in /usr/local/lib/python3.6/dist-packages (from tensorflow) (2.3.0)\n",
            "Requirement already satisfied: h5py<2.11.0,>=2.10.0 in /usr/local/lib/python3.6/dist-packages (from tensorflow) (2.10.0)\n",
            "Requirement already satisfied: astunparse==1.6.3 in /usr/local/lib/python3.6/dist-packages (from tensorflow) (1.6.3)\n",
            "Requirement already satisfied: opt-einsum>=2.3.2 in /usr/local/lib/python3.6/dist-packages (from tensorflow) (3.3.0)\n",
            "Requirement already satisfied: wheel>=0.26 in /usr/local/lib/python3.6/dist-packages (from tensorflow) (0.34.2)\n",
            "Requirement already satisfied: protobuf>=3.9.2 in /usr/local/lib/python3.6/dist-packages (from tensorflow) (3.12.4)\n",
            "Requirement already satisfied: google-pasta>=0.1.8 in /usr/local/lib/python3.6/dist-packages (from tensorflow) (0.2.0)\n",
            "Requirement already satisfied: markdown>=2.6.8 in /usr/local/lib/python3.6/dist-packages (from tensorboard<3,>=2.3.0->tensorflow) (3.2.2)\n",
            "Requirement already satisfied: requests<3,>=2.21.0 in /usr/local/lib/python3.6/dist-packages (from tensorboard<3,>=2.3.0->tensorflow) (2.23.0)\n",
            "Requirement already satisfied: setuptools>=41.0.0 in /usr/local/lib/python3.6/dist-packages (from tensorboard<3,>=2.3.0->tensorflow) (49.2.0)\n",
            "Requirement already satisfied: werkzeug>=0.11.15 in /usr/local/lib/python3.6/dist-packages (from tensorboard<3,>=2.3.0->tensorflow) (1.0.1)\n",
            "Requirement already satisfied: google-auth-oauthlib<0.5,>=0.4.1 in /usr/local/lib/python3.6/dist-packages (from tensorboard<3,>=2.3.0->tensorflow) (0.4.1)\n",
            "Requirement already satisfied: tensorboard-plugin-wit>=1.6.0 in /usr/local/lib/python3.6/dist-packages (from tensorboard<3,>=2.3.0->tensorflow) (1.7.0)\n",
            "Requirement already satisfied: google-auth<2,>=1.6.3 in /usr/local/lib/python3.6/dist-packages (from tensorboard<3,>=2.3.0->tensorflow) (1.17.2)\n",
            "Requirement already satisfied: importlib-metadata; python_version < \"3.8\" in /usr/local/lib/python3.6/dist-packages (from markdown>=2.6.8->tensorboard<3,>=2.3.0->tensorflow) (1.7.0)\n",
            "Requirement already satisfied: certifi>=2017.4.17 in /usr/local/lib/python3.6/dist-packages (from requests<3,>=2.21.0->tensorboard<3,>=2.3.0->tensorflow) (2020.6.20)\n",
            "Requirement already satisfied: chardet<4,>=3.0.2 in /usr/local/lib/python3.6/dist-packages (from requests<3,>=2.21.0->tensorboard<3,>=2.3.0->tensorflow) (3.0.4)\n",
            "Requirement already satisfied: idna<3,>=2.5 in /usr/local/lib/python3.6/dist-packages (from requests<3,>=2.21.0->tensorboard<3,>=2.3.0->tensorflow) (2.10)\n",
            "Requirement already satisfied: urllib3!=1.25.0,!=1.25.1,<1.26,>=1.21.1 in /usr/local/lib/python3.6/dist-packages (from requests<3,>=2.21.0->tensorboard<3,>=2.3.0->tensorflow) (1.24.3)\n",
            "Requirement already satisfied: requests-oauthlib>=0.7.0 in /usr/local/lib/python3.6/dist-packages (from google-auth-oauthlib<0.5,>=0.4.1->tensorboard<3,>=2.3.0->tensorflow) (1.3.0)\n",
            "Requirement already satisfied: rsa<5,>=3.1.4; python_version >= \"3\" in /usr/local/lib/python3.6/dist-packages (from google-auth<2,>=1.6.3->tensorboard<3,>=2.3.0->tensorflow) (4.6)\n",
            "Requirement already satisfied: pyasn1-modules>=0.2.1 in /usr/local/lib/python3.6/dist-packages (from google-auth<2,>=1.6.3->tensorboard<3,>=2.3.0->tensorflow) (0.2.8)\n",
            "Requirement already satisfied: cachetools<5.0,>=2.0.0 in /usr/local/lib/python3.6/dist-packages (from google-auth<2,>=1.6.3->tensorboard<3,>=2.3.0->tensorflow) (4.1.1)\n",
            "Requirement already satisfied: zipp>=0.5 in /usr/local/lib/python3.6/dist-packages (from importlib-metadata; python_version < \"3.8\"->markdown>=2.6.8->tensorboard<3,>=2.3.0->tensorflow) (3.1.0)\n",
            "Requirement already satisfied: oauthlib>=3.0.0 in /usr/local/lib/python3.6/dist-packages (from requests-oauthlib>=0.7.0->google-auth-oauthlib<0.5,>=0.4.1->tensorboard<3,>=2.3.0->tensorflow) (3.1.0)\n",
            "Requirement already satisfied: pyasn1>=0.1.3 in /usr/local/lib/python3.6/dist-packages (from rsa<5,>=3.1.4; python_version >= \"3\"->google-auth<2,>=1.6.3->tensorboard<3,>=2.3.0->tensorflow) (0.4.8)\n",
            "Installing collected packages: gast\n",
            "  Found existing installation: gast 0.2.2\n",
            "    Uninstalling gast-0.2.2:\n",
            "      Successfully uninstalled gast-0.2.2\n",
            "Successfully installed gast-0.3.3\n",
            "TensorFlow 1.x selected.\n"
          ],
          "name": "stdout"
        }
      ]
    },
    {
      "cell_type": "code",
      "metadata": {
        "id": "Dhm0rKc7t6Kr",
        "colab_type": "code",
        "colab": {
          "base_uri": "https://localhost:8080/",
          "height": 34
        },
        "outputId": "f1735b39-d0b3-4222-e2c9-f77fba239487"
      },
      "source": [
        "import tensorflow as tf\n",
        "from sklearn.model_selection import train_test_split\n",
        "import keras\n",
        "from tensorflow.keras.optimizers import RMSprop\n",
        "from tensorflow.keras.preprocessing.image import ImageDataGenerator\n",
        "from keras.layers import LeakyReLU\n",
        "from keras.layers.normalization import BatchNormalization\n",
        "from tensorflow.keras.callbacks import LearningRateScheduler\n",
        "from tensorflow.keras.callbacks import EarlyStopping\n",
        "\n",
        "import matplotlib.pyplot as plt "
      ],
      "execution_count": 2,
      "outputs": [
        {
          "output_type": "stream",
          "text": [
            "Using TensorFlow backend.\n"
          ],
          "name": "stderr"
        }
      ]
    },
    {
      "cell_type": "code",
      "metadata": {
        "id": "4r69tnJVuqyZ",
        "colab_type": "code",
        "colab": {
          "base_uri": "https://localhost:8080/",
          "height": 35
        },
        "outputId": "8816930f-a455-42a4-9ebf-fdb6754c0357"
      },
      "source": [
        "tf.__version__"
      ],
      "execution_count": 3,
      "outputs": [
        {
          "output_type": "execute_result",
          "data": {
            "application/vnd.google.colaboratory.intrinsic+json": {
              "type": "string"
            },
            "text/plain": [
              "'1.15.2'"
            ]
          },
          "metadata": {
            "tags": []
          },
          "execution_count": 3
        }
      ]
    },
    {
      "cell_type": "code",
      "metadata": {
        "id": "Nlpstfi_w4gL",
        "colab_type": "code",
        "colab": {}
      },
      "source": [
        "import numpy as np # linear algebra\n",
        "import pandas as pd # data processing, CSV file I/O (e.g. pd.read_csv)"
      ],
      "execution_count": 4,
      "outputs": []
    },
    {
      "cell_type": "code",
      "metadata": {
        "id": "Na5zyQvMuq1A",
        "colab_type": "code",
        "colab": {
          "base_uri": "https://localhost:8080/",
          "height": 122
        },
        "outputId": "6aa5c04b-a5b5-4d0e-c59b-70d486c38a5e"
      },
      "source": [
        "from google.colab import drive\n",
        "drive.mount('/content/drive/')"
      ],
      "execution_count": 5,
      "outputs": [
        {
          "output_type": "stream",
          "text": [
            "Go to this URL in a browser: https://accounts.google.com/o/oauth2/auth?client_id=947318989803-6bn6qk8qdgf4n4g3pfee6491hc0brc4i.apps.googleusercontent.com&redirect_uri=urn%3aietf%3awg%3aoauth%3a2.0%3aoob&scope=email%20https%3a%2f%2fwww.googleapis.com%2fauth%2fdocs.test%20https%3a%2f%2fwww.googleapis.com%2fauth%2fdrive%20https%3a%2f%2fwww.googleapis.com%2fauth%2fdrive.photos.readonly%20https%3a%2f%2fwww.googleapis.com%2fauth%2fpeopleapi.readonly&response_type=code\n",
            "\n",
            "Enter your authorization code:\n",
            "··········\n",
            "Mounted at /content/drive/\n"
          ],
          "name": "stdout"
        }
      ]
    },
    {
      "cell_type": "code",
      "metadata": {
        "id": "r1n-M9aJt63x",
        "colab_type": "code",
        "colab": {}
      },
      "source": [
        "train = pd.read_csv('/content/drive/My Drive/ML_Dataset/MNIST_Kannada/train.csv')\n",
        "test = pd.read_csv('/content/drive/My Drive/ML_Dataset/MNIST_Kannada/test.csv')\n",
        "Dig_MNIST = pd.read_csv('/content/drive/My Drive/ML_Dataset/MNIST_Kannada/Dig-MNIST.csv')"
      ],
      "execution_count": 6,
      "outputs": []
    },
    {
      "cell_type": "code",
      "metadata": {
        "id": "UbPknz7swuuC",
        "colab_type": "code",
        "colab": {}
      },
      "source": [
        "sample_sub = pd.read_csv('/content/drive/My Drive/ML_Dataset/MNIST_Kannada/sample_submission.csv')"
      ],
      "execution_count": 7,
      "outputs": []
    },
    {
      "cell_type": "code",
      "metadata": {
        "id": "QTLBsOhyzDRq",
        "colab_type": "code",
        "colab": {
          "base_uri": "https://localhost:8080/",
          "height": 68
        },
        "outputId": "cf19c69b-04e2-45b0-cf5f-c76eef350632"
      },
      "source": [
        "print(train.shape)\n",
        "print(test.shape)\n",
        "print(Dig_MNIST.shape)"
      ],
      "execution_count": 8,
      "outputs": [
        {
          "output_type": "stream",
          "text": [
            "(60000, 785)\n",
            "(5000, 785)\n",
            "(10240, 785)\n"
          ],
          "name": "stdout"
        }
      ]
    },
    {
      "cell_type": "code",
      "metadata": {
        "id": "eDlm9Zx4zHlG",
        "colab_type": "code",
        "colab": {
          "base_uri": "https://localhost:8080/",
          "height": 34
        },
        "outputId": "e98811cb-2fee-4713-e98d-569781cd108f"
      },
      "source": [
        "X=train.iloc[:,1:].values \n",
        "Y=train.iloc[:,0].values \n",
        "Y[:10]"
      ],
      "execution_count": 9,
      "outputs": [
        {
          "output_type": "execute_result",
          "data": {
            "text/plain": [
              "array([0, 1, 2, 3, 4, 5, 6, 7, 8, 9])"
            ]
          },
          "metadata": {
            "tags": []
          },
          "execution_count": 9
        }
      ]
    },
    {
      "cell_type": "code",
      "metadata": {
        "id": "V8lF3dhwe4yW",
        "colab_type": "code",
        "colab": {
          "base_uri": "https://localhost:8080/",
          "height": 34
        },
        "outputId": "8f8ee620-ddef-40b7-9c49-d96dddd1f294"
      },
      "source": [
        "X = X.reshape(X.shape[0], 28, 28,1) \n",
        "print(X.shape)"
      ],
      "execution_count": 10,
      "outputs": [
        {
          "output_type": "stream",
          "text": [
            "(60000, 28, 28, 1)\n"
          ],
          "name": "stdout"
        }
      ]
    },
    {
      "cell_type": "code",
      "metadata": {
        "id": "_d2zoGjMfUjx",
        "colab_type": "code",
        "colab": {
          "base_uri": "https://localhost:8080/",
          "height": 34
        },
        "outputId": "5a7247b2-b204-49e2-d8c8-92b4c04d51d7"
      },
      "source": [
        "Y = keras.utils.to_categorical(Y, 10) \n",
        "print(Y.shape)"
      ],
      "execution_count": 11,
      "outputs": [
        {
          "output_type": "stream",
          "text": [
            "(60000, 10)\n"
          ],
          "name": "stdout"
        }
      ]
    },
    {
      "cell_type": "code",
      "metadata": {
        "id": "HUKEpHkKfb0d",
        "colab_type": "code",
        "colab": {
          "base_uri": "https://localhost:8080/",
          "height": 34
        },
        "outputId": "e5b9f836-7b77-421a-9876-9e83a0104ca7"
      },
      "source": [
        "x_test=test.drop('id', axis=1).iloc[:,:].values\n",
        "x_test = x_test.reshape(x_test.shape[0], 28, 28,1)\n",
        "x_test.shape"
      ],
      "execution_count": 12,
      "outputs": [
        {
          "output_type": "execute_result",
          "data": {
            "text/plain": [
              "(5000, 28, 28, 1)"
            ]
          },
          "metadata": {
            "tags": []
          },
          "execution_count": 12
        }
      ]
    },
    {
      "cell_type": "code",
      "metadata": {
        "id": "c9hhVdLuftwi",
        "colab_type": "code",
        "colab": {
          "base_uri": "https://localhost:8080/",
          "height": 51
        },
        "outputId": "875b0ce7-1024-4db7-b839-c8a2aea37c89"
      },
      "source": [
        "x_dig=Dig_MNIST.drop('label',axis=1).iloc[:,:].values\n",
        "print(x_dig.shape)\n",
        "x_dig = x_dig.reshape(x_dig.shape[0], 28, 28,1)\n",
        "x_dig.shape"
      ],
      "execution_count": 13,
      "outputs": [
        {
          "output_type": "stream",
          "text": [
            "(10240, 784)\n"
          ],
          "name": "stdout"
        },
        {
          "output_type": "execute_result",
          "data": {
            "text/plain": [
              "(10240, 28, 28, 1)"
            ]
          },
          "metadata": {
            "tags": []
          },
          "execution_count": 13
        }
      ]
    },
    {
      "cell_type": "code",
      "metadata": {
        "id": "GKAVCpPEf1Lc",
        "colab_type": "code",
        "colab": {
          "base_uri": "https://localhost:8080/",
          "height": 34
        },
        "outputId": "cbd8374c-0334-4477-e645-97b88a744951"
      },
      "source": [
        "y_dig=Dig_MNIST.label\n",
        "y_dig.shape"
      ],
      "execution_count": 14,
      "outputs": [
        {
          "output_type": "execute_result",
          "data": {
            "text/plain": [
              "(10240,)"
            ]
          },
          "metadata": {
            "tags": []
          },
          "execution_count": 14
        }
      ]
    },
    {
      "cell_type": "code",
      "metadata": {
        "id": "F_nQ-GbYf4aS",
        "colab_type": "code",
        "colab": {}
      },
      "source": [
        "X_train, X_valid, Y_train, Y_valid = train_test_split(X, Y, test_size = 0.10, random_state=42) "
      ],
      "execution_count": 15,
      "outputs": []
    },
    {
      "cell_type": "code",
      "metadata": {
        "id": "KdRihuaYf8Tq",
        "colab_type": "code",
        "colab": {}
      },
      "source": [
        "train_datagen = ImageDataGenerator(rescale = 1./255.,\n",
        "                                   rotation_range = 10,\n",
        "                                   width_shift_range = 0.25,\n",
        "                                   height_shift_range = 0.25,\n",
        "                                   shear_range = 0.1,\n",
        "                                   zoom_range = 0.25,\n",
        "                                   horizontal_flip = False)"
      ],
      "execution_count": 16,
      "outputs": []
    },
    {
      "cell_type": "code",
      "metadata": {
        "id": "sZQBlVIggCHb",
        "colab_type": "code",
        "colab": {}
      },
      "source": [
        "valid_datagen = ImageDataGenerator(rescale=1./255)"
      ],
      "execution_count": 17,
      "outputs": []
    },
    {
      "cell_type": "code",
      "metadata": {
        "id": "qykqoSragufW",
        "colab_type": "code",
        "colab": {}
      },
      "source": [
        "def lr_decay(epoch):#lrv\n",
        "    return initial_learningrate * 0.99 ** epoch"
      ],
      "execution_count": 18,
      "outputs": []
    },
    {
      "cell_type": "code",
      "metadata": {
        "id": "C1wqz1WfgIQN",
        "colab_type": "code",
        "colab": {
          "base_uri": "https://localhost:8080/",
          "height": 1000
        },
        "outputId": "315fcb9e-662a-45da-b9e5-fe264efec0b1"
      },
      "source": [
        "model = tf.keras.models.Sequential([\n",
        "    tf.keras.layers.Conv2D(64, (3,3), padding='same', input_shape=(28, 28, 1)),\n",
        "    tf.keras.layers.BatchNormalization(momentum=0.5, epsilon=1e-5, gamma_initializer=\"uniform\"),\n",
        "    tf.keras.layers.LeakyReLU(alpha=0.1),\n",
        "    tf.keras.layers.Conv2D(64,  (3,3), padding='same'),\n",
        "    tf.keras.layers.BatchNormalization(momentum=0.1, epsilon=1e-5, gamma_initializer=\"uniform\"),\n",
        "    tf.keras.layers.LeakyReLU(alpha=0.1),\n",
        "\n",
        "    tf.keras.layers.MaxPooling2D(2, 2),\n",
        "    tf.keras.layers.Dropout(0.2),\n",
        "    \n",
        "    tf.keras.layers.Conv2D(128, (3,3), padding='same'),\n",
        "    tf.keras.layers.BatchNormalization(momentum=0.2, epsilon=1e-5, gamma_initializer=\"uniform\"),\n",
        "    tf.keras.layers.LeakyReLU(alpha=0.1),\n",
        "    tf.keras.layers.Conv2D(128, (3,3), padding='same'),\n",
        "    tf.keras.layers.BatchNormalization(momentum=0.1, epsilon=1e-5, gamma_initializer=\"uniform\"),\n",
        "    tf.keras.layers.LeakyReLU(alpha=0.1),\n",
        "    \n",
        "    tf.keras.layers.MaxPooling2D(2,2),\n",
        "    tf.keras.layers.Dropout(0.2),    \n",
        "    \n",
        "    tf.keras.layers.Conv2D(256, (3,3), padding='same'),\n",
        "    tf.keras.layers.BatchNormalization(momentum=0.2, epsilon=1e-5, gamma_initializer=\"uniform\"),\n",
        "    tf.keras.layers.LeakyReLU(alpha=0.1),\n",
        "    tf.keras.layers.Conv2D(256, (3,3), padding='same'),\n",
        "    tf.keras.layers.BatchNormalization(momentum=0.1, epsilon=1e-5, gamma_initializer=\"uniform\"),\n",
        "    tf.keras.layers.LeakyReLU(alpha=0.1),\n",
        "\n",
        "    tf.keras.layers.MaxPooling2D(2,2),\n",
        "    tf.keras.layers.Dropout(0.2),\n",
        "    \n",
        "    \n",
        "    tf.keras.layers.Flatten(),\n",
        "    tf.keras.layers.Dense(256),\n",
        "    tf.keras.layers.LeakyReLU(alpha=0.1),\n",
        " \n",
        "    tf.keras.layers.BatchNormalization(),\n",
        "    tf.keras.layers.Dense(10, activation='softmax')\n",
        "])\n",
        "model.summary()"
      ],
      "execution_count": 19,
      "outputs": [
        {
          "output_type": "stream",
          "text": [
            "WARNING:tensorflow:From /tensorflow-1.15.2/python3.6/tensorflow_core/python/keras/initializers.py:119: calling RandomUniform.__init__ (from tensorflow.python.ops.init_ops) with dtype is deprecated and will be removed in a future version.\n",
            "Instructions for updating:\n",
            "Call initializer instance with the dtype argument instead of passing it to the constructor\n",
            "WARNING:tensorflow:From /tensorflow-1.15.2/python3.6/tensorflow_core/python/ops/resource_variable_ops.py:1630: calling BaseResourceVariable.__init__ (from tensorflow.python.ops.resource_variable_ops) with constraint is deprecated and will be removed in a future version.\n",
            "Instructions for updating:\n",
            "If using Keras pass *_constraint arguments to layers.\n",
            "Model: \"sequential\"\n",
            "_________________________________________________________________\n",
            "Layer (type)                 Output Shape              Param #   \n",
            "=================================================================\n",
            "conv2d (Conv2D)              (None, 28, 28, 64)        640       \n",
            "_________________________________________________________________\n",
            "batch_normalization (BatchNo (None, 28, 28, 64)        256       \n",
            "_________________________________________________________________\n",
            "leaky_re_lu (LeakyReLU)      (None, 28, 28, 64)        0         \n",
            "_________________________________________________________________\n",
            "conv2d_1 (Conv2D)            (None, 28, 28, 64)        36928     \n",
            "_________________________________________________________________\n",
            "batch_normalization_1 (Batch (None, 28, 28, 64)        256       \n",
            "_________________________________________________________________\n",
            "leaky_re_lu_1 (LeakyReLU)    (None, 28, 28, 64)        0         \n",
            "_________________________________________________________________\n",
            "max_pooling2d (MaxPooling2D) (None, 14, 14, 64)        0         \n",
            "_________________________________________________________________\n",
            "dropout (Dropout)            (None, 14, 14, 64)        0         \n",
            "_________________________________________________________________\n",
            "conv2d_2 (Conv2D)            (None, 14, 14, 128)       73856     \n",
            "_________________________________________________________________\n",
            "batch_normalization_2 (Batch (None, 14, 14, 128)       512       \n",
            "_________________________________________________________________\n",
            "leaky_re_lu_2 (LeakyReLU)    (None, 14, 14, 128)       0         \n",
            "_________________________________________________________________\n",
            "conv2d_3 (Conv2D)            (None, 14, 14, 128)       147584    \n",
            "_________________________________________________________________\n",
            "batch_normalization_3 (Batch (None, 14, 14, 128)       512       \n",
            "_________________________________________________________________\n",
            "leaky_re_lu_3 (LeakyReLU)    (None, 14, 14, 128)       0         \n",
            "_________________________________________________________________\n",
            "max_pooling2d_1 (MaxPooling2 (None, 7, 7, 128)         0         \n",
            "_________________________________________________________________\n",
            "dropout_1 (Dropout)          (None, 7, 7, 128)         0         \n",
            "_________________________________________________________________\n",
            "conv2d_4 (Conv2D)            (None, 7, 7, 256)         295168    \n",
            "_________________________________________________________________\n",
            "batch_normalization_4 (Batch (None, 7, 7, 256)         1024      \n",
            "_________________________________________________________________\n",
            "leaky_re_lu_4 (LeakyReLU)    (None, 7, 7, 256)         0         \n",
            "_________________________________________________________________\n",
            "conv2d_5 (Conv2D)            (None, 7, 7, 256)         590080    \n",
            "_________________________________________________________________\n",
            "batch_normalization_5 (Batch (None, 7, 7, 256)         1024      \n",
            "_________________________________________________________________\n",
            "leaky_re_lu_5 (LeakyReLU)    (None, 7, 7, 256)         0         \n",
            "_________________________________________________________________\n",
            "max_pooling2d_2 (MaxPooling2 (None, 3, 3, 256)         0         \n",
            "_________________________________________________________________\n",
            "dropout_2 (Dropout)          (None, 3, 3, 256)         0         \n",
            "_________________________________________________________________\n",
            "flatten (Flatten)            (None, 2304)              0         \n",
            "_________________________________________________________________\n",
            "dense (Dense)                (None, 256)               590080    \n",
            "_________________________________________________________________\n",
            "leaky_re_lu_6 (LeakyReLU)    (None, 256)               0         \n",
            "_________________________________________________________________\n",
            "batch_normalization_6 (Batch (None, 256)               1024      \n",
            "_________________________________________________________________\n",
            "dense_1 (Dense)              (None, 10)                2570      \n",
            "=================================================================\n",
            "Total params: 1,741,514\n",
            "Trainable params: 1,739,210\n",
            "Non-trainable params: 2,304\n",
            "_________________________________________________________________\n"
          ],
          "name": "stdout"
        }
      ]
    },
    {
      "cell_type": "code",
      "metadata": {
        "id": "0IJSdN5agT0X",
        "colab_type": "code",
        "colab": {}
      },
      "source": [
        "initial_learningrate=2e-3\n",
        "batch_size = 1024\n",
        "epochs = 50\n",
        "input_shape = (28, 28, 1)"
      ],
      "execution_count": 20,
      "outputs": []
    },
    {
      "cell_type": "code",
      "metadata": {
        "id": "UNngqKXpgbGH",
        "colab_type": "code",
        "colab": {}
      },
      "source": [
        "es = EarlyStopping(monitor='val_loss', verbose=1, patience=10)"
      ],
      "execution_count": 21,
      "outputs": []
    },
    {
      "cell_type": "code",
      "metadata": {
        "id": "thYgirC8ggUT",
        "colab_type": "code",
        "colab": {}
      },
      "source": [
        "model.compile(loss=\"categorical_crossentropy\",\n",
        "              optimizer=RMSprop(lr=initial_learningrate),\n",
        "              metrics=['accuracy'])\n"
      ],
      "execution_count": 22,
      "outputs": []
    },
    {
      "cell_type": "code",
      "metadata": {
        "id": "rU-AIjh0gi22",
        "colab_type": "code",
        "colab": {}
      },
      "source": [
        "from sklearn import metrics\n"
      ],
      "execution_count": 23,
      "outputs": []
    },
    {
      "cell_type": "code",
      "metadata": {
        "id": "rPueHv6BgkgM",
        "colab_type": "code",
        "colab": {
          "base_uri": "https://localhost:8080/",
          "height": 1000
        },
        "outputId": "0a7df589-3ab9-4f2e-c8d3-37c22fd3e495"
      },
      "source": [
        "history = model.fit_generator(\n",
        "      train_datagen.flow(X_train,Y_train, batch_size=batch_size),\n",
        "      steps_per_epoch=100,\n",
        "      epochs=epochs,\n",
        "      callbacks=[LearningRateScheduler(lr_decay),\n",
        "                 es\n",
        "               ],\n",
        "      validation_data=valid_datagen.flow(X_valid,Y_valid),\n",
        "      validation_steps=50,  \n",
        "      verbose=2)"
      ],
      "execution_count": 24,
      "outputs": [
        {
          "output_type": "stream",
          "text": [
            "Epoch 1/50\n",
            "Epoch 1/50\n",
            "100/100 - 42s - loss: 0.5498 - acc: 0.8167 - val_loss: 0.9210 - val_acc: 0.9775\n",
            "Epoch 2/50\n",
            "Epoch 1/50\n",
            "100/100 - 31s - loss: 0.0938 - acc: 0.9697 - val_loss: 1.7666 - val_acc: 0.7044\n",
            "Epoch 3/50\n",
            "Epoch 1/50\n",
            "100/100 - 31s - loss: 0.0661 - acc: 0.9786 - val_loss: 0.0448 - val_acc: 0.9912\n",
            "Epoch 4/50\n",
            "Epoch 1/50\n",
            "100/100 - 32s - loss: 0.0518 - acc: 0.9830 - val_loss: 0.0242 - val_acc: 0.9912\n",
            "Epoch 5/50\n",
            "Epoch 1/50\n",
            "100/100 - 31s - loss: 0.0454 - acc: 0.9848 - val_loss: 0.0771 - val_acc: 0.9756\n",
            "Epoch 6/50\n",
            "Epoch 1/50\n",
            "100/100 - 31s - loss: 0.0417 - acc: 0.9866 - val_loss: 0.0138 - val_acc: 0.9956\n",
            "Epoch 7/50\n",
            "Epoch 1/50\n",
            "100/100 - 31s - loss: 0.0376 - acc: 0.9876 - val_loss: 0.0103 - val_acc: 0.9956\n",
            "Epoch 8/50\n",
            "Epoch 1/50\n",
            "100/100 - 31s - loss: 0.0344 - acc: 0.9886 - val_loss: 0.0144 - val_acc: 0.9950\n",
            "Epoch 9/50\n",
            "Epoch 1/50\n",
            "100/100 - 31s - loss: 0.0329 - acc: 0.9894 - val_loss: 0.0136 - val_acc: 0.9950\n",
            "Epoch 10/50\n",
            "Epoch 1/50\n",
            "100/100 - 31s - loss: 0.0323 - acc: 0.9892 - val_loss: 0.0134 - val_acc: 0.9925\n",
            "Epoch 11/50\n",
            "Epoch 1/50\n",
            "100/100 - 31s - loss: 0.0301 - acc: 0.9902 - val_loss: 0.0150 - val_acc: 0.9950\n",
            "Epoch 12/50\n",
            "Epoch 1/50\n",
            "100/100 - 31s - loss: 0.0293 - acc: 0.9904 - val_loss: 0.0164 - val_acc: 0.9944\n",
            "Epoch 13/50\n",
            "Epoch 1/50\n",
            "100/100 - 31s - loss: 0.0278 - acc: 0.9906 - val_loss: 0.0086 - val_acc: 0.9969\n",
            "Epoch 14/50\n",
            "Epoch 1/50\n",
            "100/100 - 31s - loss: 0.0256 - acc: 0.9913 - val_loss: 0.0089 - val_acc: 0.9969\n",
            "Epoch 15/50\n",
            "Epoch 1/50\n",
            "100/100 - 31s - loss: 0.0276 - acc: 0.9911 - val_loss: 0.0098 - val_acc: 0.9962\n",
            "Epoch 16/50\n",
            "Epoch 1/50\n",
            "100/100 - 31s - loss: 0.0252 - acc: 0.9916 - val_loss: 0.0112 - val_acc: 0.9944\n",
            "Epoch 17/50\n",
            "Epoch 1/50\n",
            "100/100 - 31s - loss: 0.0256 - acc: 0.9915 - val_loss: 0.0068 - val_acc: 0.9969\n",
            "Epoch 18/50\n",
            "Epoch 1/50\n",
            "100/100 - 31s - loss: 0.0238 - acc: 0.9922 - val_loss: 0.0059 - val_acc: 0.9981\n",
            "Epoch 19/50\n",
            "Epoch 1/50\n",
            "100/100 - 31s - loss: 0.0233 - acc: 0.9921 - val_loss: 0.0070 - val_acc: 0.9975\n",
            "Epoch 20/50\n",
            "Epoch 1/50\n",
            "100/100 - 31s - loss: 0.0230 - acc: 0.9925 - val_loss: 0.0106 - val_acc: 0.9969\n",
            "Epoch 21/50\n",
            "Epoch 1/50\n",
            "100/100 - 31s - loss: 0.0229 - acc: 0.9919 - val_loss: 0.0083 - val_acc: 0.9969\n",
            "Epoch 22/50\n",
            "Epoch 1/50\n",
            "100/100 - 31s - loss: 0.0220 - acc: 0.9925 - val_loss: 0.0107 - val_acc: 0.9969\n",
            "Epoch 23/50\n",
            "Epoch 1/50\n",
            "100/100 - 30s - loss: 0.0212 - acc: 0.9929 - val_loss: 0.0060 - val_acc: 0.9969\n",
            "Epoch 24/50\n",
            "Epoch 1/50\n",
            "100/100 - 31s - loss: 0.0210 - acc: 0.9927 - val_loss: 0.0072 - val_acc: 0.9975\n",
            "Epoch 25/50\n",
            "Epoch 1/50\n",
            "100/100 - 31s - loss: 0.0210 - acc: 0.9931 - val_loss: 0.0082 - val_acc: 0.9969\n",
            "Epoch 26/50\n",
            "Epoch 1/50\n",
            "100/100 - 30s - loss: 0.0217 - acc: 0.9929 - val_loss: 0.0101 - val_acc: 0.9962\n",
            "Epoch 27/50\n",
            "Epoch 1/50\n",
            "100/100 - 30s - loss: 0.0215 - acc: 0.9934 - val_loss: 0.0087 - val_acc: 0.9969\n",
            "Epoch 28/50\n",
            "Epoch 1/50\n",
            "100/100 - 30s - loss: 0.0196 - acc: 0.9936 - val_loss: 0.0046 - val_acc: 0.9987\n",
            "Epoch 29/50\n",
            "Epoch 1/50\n",
            "100/100 - 30s - loss: 0.0188 - acc: 0.9935 - val_loss: 0.0031 - val_acc: 0.9987\n",
            "Epoch 30/50\n",
            "Epoch 1/50\n",
            "100/100 - 30s - loss: 0.0191 - acc: 0.9934 - val_loss: 0.0081 - val_acc: 0.9981\n",
            "Epoch 31/50\n",
            "Epoch 1/50\n",
            "100/100 - 30s - loss: 0.0180 - acc: 0.9940 - val_loss: 0.0069 - val_acc: 0.9975\n",
            "Epoch 32/50\n",
            "Epoch 1/50\n",
            "100/100 - 30s - loss: 0.0189 - acc: 0.9941 - val_loss: 0.0058 - val_acc: 0.9981\n",
            "Epoch 33/50\n",
            "Epoch 1/50\n",
            "100/100 - 30s - loss: 0.0185 - acc: 0.9936 - val_loss: 0.0080 - val_acc: 0.9981\n",
            "Epoch 34/50\n",
            "Epoch 1/50\n",
            "100/100 - 30s - loss: 0.0178 - acc: 0.9942 - val_loss: 0.0067 - val_acc: 0.9975\n",
            "Epoch 35/50\n",
            "Epoch 1/50\n",
            "100/100 - 30s - loss: 0.0188 - acc: 0.9937 - val_loss: 0.0038 - val_acc: 0.9981\n",
            "Epoch 36/50\n",
            "Epoch 1/50\n",
            "100/100 - 30s - loss: 0.0182 - acc: 0.9934 - val_loss: 0.0102 - val_acc: 0.9969\n",
            "Epoch 37/50\n",
            "Epoch 1/50\n",
            "100/100 - 30s - loss: 0.0189 - acc: 0.9938 - val_loss: 0.0075 - val_acc: 0.9975\n",
            "Epoch 38/50\n",
            "Epoch 1/50\n",
            "100/100 - 30s - loss: 0.0172 - acc: 0.9944 - val_loss: 0.0104 - val_acc: 0.9962\n",
            "Epoch 39/50\n",
            "Epoch 1/50\n",
            "100/100 - 30s - loss: 0.0170 - acc: 0.9944 - val_loss: 0.0034 - val_acc: 0.9981\n",
            "Epoch 00039: early stopping\n"
          ],
          "name": "stdout"
        }
      ]
    },
    {
      "cell_type": "code",
      "metadata": {
        "id": "3boCnCQPgmsO",
        "colab_type": "code",
        "colab": {
          "base_uri": "https://localhost:8080/",
          "height": 34
        },
        "outputId": "2b634a30-d9b6-455f-b559-19bcb88cb66e"
      },
      "source": [
        "preds_dig=model.predict_classes(x_dig/255)\n",
        "metrics.accuracy_score(preds_dig, y_dig)"
      ],
      "execution_count": 25,
      "outputs": [
        {
          "output_type": "execute_result",
          "data": {
            "text/plain": [
              "0.90537109375"
            ]
          },
          "metadata": {
            "tags": []
          },
          "execution_count": 25
        }
      ]
    },
    {
      "cell_type": "code",
      "metadata": {
        "id": "mqM6pKs_jM5Y",
        "colab_type": "code",
        "colab": {
          "base_uri": "https://localhost:8080/",
          "height": 281
        },
        "outputId": "c616f608-f488-4fad-afb5-dc19c14a8506"
      },
      "source": [
        "accuracy = history.history['acc']\n",
        "val_accuracy = history.history['val_acc']\n",
        "loss = history.history['loss']\n",
        "val_loss = history.history['val_loss']\n",
        "epochs = range(len(accuracy))\n",
        "plt.plot(epochs, accuracy, 'b', label='Training accuracy')\n",
        "plt.plot(epochs, val_accuracy, 'r', label='Test accuracy')\n",
        "plt.title('Accuracy')\n",
        "plt.legend()\n",
        "plt.show()"
      ],
      "execution_count": 26,
      "outputs": [
        {
          "output_type": "display_data",
          "data": {
            "image/png": "[encoded data removed]",
            "text/plain": [
              "<Figure size 432x288 with 1 Axes>"
            ]
          },
          "metadata": {
            "tags": [],
            "needs_background": "light"
          }
        }
      ]
    },
    {
      "cell_type": "code",
      "metadata": {
        "id": "oHEvzAj0jQVS",
        "colab_type": "code",
        "colab": {
          "base_uri": "https://localhost:8080/",
          "height": 281
        },
        "outputId": "7fa4534e-6751-4989-b411-0e8ca1e37a6b"
      },
      "source": [
        "plt.figure()\n",
        "plt.plot(epochs, loss, 'b', label='Training loss')\n",
        "plt.plot(epochs, val_loss, 'r', label='Test loss')\n",
        "plt.title('Loss')\n",
        "plt.legend()\n",
        "plt.show()"
      ],
      "execution_count": 27,
      "outputs": [
        {
          "output_type": "display_data",
          "data": {
            "image/png": "[encoded data removed]",
            "text/plain": [
              "<Figure size 432x288 with 1 Axes>"
            ]
          },
          "metadata": {
            "tags": [],
            "needs_background": "light"
          }
        }
      ]
    },
    {
      "cell_type": "code",
      "metadata": {
        "id": "LXqtY3XijTOP",
        "colab_type": "code",
        "colab": {}
      },
      "source": [
        "#Let's fit the model on the whole training set."
      ],
      "execution_count": 28,
      "outputs": []
    },
    {
      "cell_type": "code",
      "metadata": {
        "id": "fML4piNhjigm",
        "colab_type": "code",
        "colab": {}
      },
      "source": [
        "keras.backend.clear_session()"
      ],
      "execution_count": 29,
      "outputs": []
    },
    {
      "cell_type": "code",
      "metadata": {
        "id": "43jFlT7_jkjE",
        "colab_type": "code",
        "colab": {}
      },
      "source": [
        "model = tf.keras.models.Sequential([\n",
        "    tf.keras.layers.Conv2D(64, (3,3), padding='same', input_shape=(28, 28, 1)),\n",
        "    tf.keras.layers.BatchNormalization(momentum=0.5, epsilon=1e-5, gamma_initializer=\"uniform\"),\n",
        "    tf.keras.layers.LeakyReLU(alpha=0.1),\n",
        "    tf.keras.layers.Conv2D(64,  (3,3), padding='same'),\n",
        "    tf.keras.layers.BatchNormalization(momentum=0.1, epsilon=1e-5, gamma_initializer=\"uniform\"),\n",
        "    tf.keras.layers.LeakyReLU(alpha=0.1),\n",
        "\n",
        "    tf.keras.layers.MaxPooling2D(2, 2),\n",
        "    tf.keras.layers.Dropout(0.2),\n",
        "    \n",
        "    tf.keras.layers.Conv2D(128, (3,3), padding='same'),\n",
        "    tf.keras.layers.BatchNormalization(momentum=0.2, epsilon=1e-5, gamma_initializer=\"uniform\"),\n",
        "    tf.keras.layers.LeakyReLU(alpha=0.1),\n",
        "    tf.keras.layers.Conv2D(128, (3,3), padding='same'),\n",
        "    tf.keras.layers.BatchNormalization(momentum=0.1, epsilon=1e-5, gamma_initializer=\"uniform\"),\n",
        "    tf.keras.layers.LeakyReLU(alpha=0.1),\n",
        "    \n",
        "    tf.keras.layers.MaxPooling2D(2,2),\n",
        "    tf.keras.layers.Dropout(0.2),    \n",
        "    \n",
        "    tf.keras.layers.Conv2D(256, (3,3), padding='same'),\n",
        "    tf.keras.layers.BatchNormalization(momentum=0.2, epsilon=1e-5, gamma_initializer=\"uniform\"),\n",
        "    tf.keras.layers.LeakyReLU(alpha=0.1),\n",
        "    tf.keras.layers.Conv2D(256, (3,3), padding='same'),\n",
        "    tf.keras.layers.BatchNormalization(momentum=0.1, epsilon=1e-5, gamma_initializer=\"uniform\"),\n",
        "    tf.keras.layers.LeakyReLU(alpha=0.1),\n",
        "\n",
        "    \n",
        "    tf.keras.layers.MaxPooling2D(2,2),\n",
        "    tf.keras.layers.Dropout(0.2),\n",
        "    \n",
        "    \n",
        "    tf.keras.layers.Flatten(),\n",
        "    tf.keras.layers.Dense(256),\n",
        "    tf.keras.layers.LeakyReLU(alpha=0.1),\n",
        "\n",
        "    tf.keras.layers.BatchNormalization(),\n",
        "    tf.keras.layers.Dense(10, activation='softmax')\n",
        "])"
      ],
      "execution_count": 30,
      "outputs": []
    },
    {
      "cell_type": "code",
      "metadata": {
        "id": "98R0BN7_joHG",
        "colab_type": "code",
        "colab": {}
      },
      "source": [
        "initial_learningrate=2e-3\n",
        "batch_size = 1024\n",
        "epochs = 50\n",
        "input_shape = (28, 28, 1)"
      ],
      "execution_count": 31,
      "outputs": []
    },
    {
      "cell_type": "code",
      "metadata": {
        "id": "2B4KuJFGjqPi",
        "colab_type": "code",
        "colab": {}
      },
      "source": [
        "model.compile(loss=\"categorical_crossentropy\",\n",
        "              optimizer=RMSprop(lr=initial_learningrate),\n",
        "              metrics=['accuracy'])"
      ],
      "execution_count": 32,
      "outputs": []
    },
    {
      "cell_type": "code",
      "metadata": {
        "id": "uY24hhGejsGq",
        "colab_type": "code",
        "colab": {
          "base_uri": "https://localhost:8080/",
          "height": 1000
        },
        "outputId": "4dbcbeaf-b793-47ad-e7f2-05843324ca7d"
      },
      "source": [
        "history = model.fit_generator(\n",
        "      train_datagen.flow(X,Y, batch_size=batch_size),\n",
        "      steps_per_epoch=100,\n",
        "      epochs=epochs,\n",
        "      callbacks=[LearningRateScheduler(lr_decay)           \n",
        "               ],\n",
        "      validation_data=valid_datagen.flow(X_valid,Y_valid),\n",
        "      validation_steps=50,  \n",
        "      verbose=2)"
      ],
      "execution_count": 33,
      "outputs": [
        {
          "output_type": "stream",
          "text": [
            "Epoch 1/50\n",
            "Epoch 1/50\n",
            "100/100 - 34s - loss: 0.5628 - acc: 0.8118 - val_loss: 0.8756 - val_acc: 0.9700\n",
            "Epoch 2/50\n",
            "Epoch 1/50\n",
            "100/100 - 31s - loss: 0.0910 - acc: 0.9701 - val_loss: 0.1193 - val_acc: 0.9956\n",
            "Epoch 3/50\n",
            "Epoch 1/50\n",
            "100/100 - 31s - loss: 0.0631 - acc: 0.9795 - val_loss: 0.0250 - val_acc: 0.9937\n",
            "Epoch 4/50\n",
            "Epoch 1/50\n",
            "100/100 - 31s - loss: 0.0525 - acc: 0.9828 - val_loss: 0.0878 - val_acc: 0.9712\n",
            "Epoch 5/50\n",
            "Epoch 1/50\n",
            "100/100 - 31s - loss: 0.0441 - acc: 0.9853 - val_loss: 0.0085 - val_acc: 0.9962\n",
            "Epoch 6/50\n",
            "Epoch 1/50\n",
            "100/100 - 31s - loss: 0.0428 - acc: 0.9863 - val_loss: 0.0073 - val_acc: 0.9981\n",
            "Epoch 7/50\n",
            "Epoch 1/50\n",
            "100/100 - 31s - loss: 0.0366 - acc: 0.9879 - val_loss: 0.0313 - val_acc: 0.9906\n",
            "Epoch 8/50\n",
            "Epoch 1/50\n",
            "100/100 - 31s - loss: 0.0366 - acc: 0.9880 - val_loss: 0.0513 - val_acc: 0.9887\n",
            "Epoch 9/50\n",
            "Epoch 1/50\n",
            "100/100 - 31s - loss: 0.0346 - acc: 0.9886 - val_loss: 0.0091 - val_acc: 0.9969\n",
            "Epoch 10/50\n",
            "Epoch 1/50\n",
            "100/100 - 31s - loss: 0.0313 - acc: 0.9897 - val_loss: 0.0120 - val_acc: 0.9962\n",
            "Epoch 11/50\n",
            "Epoch 1/50\n",
            "100/100 - 31s - loss: 0.0305 - acc: 0.9901 - val_loss: 0.0103 - val_acc: 0.9956\n",
            "Epoch 12/50\n",
            "Epoch 1/50\n",
            "100/100 - 31s - loss: 0.0291 - acc: 0.9905 - val_loss: 0.0062 - val_acc: 0.9981\n",
            "Epoch 13/50\n",
            "Epoch 1/50\n",
            "100/100 - 31s - loss: 0.0289 - acc: 0.9905 - val_loss: 0.0031 - val_acc: 0.9987\n",
            "Epoch 14/50\n",
            "Epoch 1/50\n",
            "100/100 - 31s - loss: 0.0272 - acc: 0.9908 - val_loss: 0.0081 - val_acc: 0.9969\n",
            "Epoch 15/50\n",
            "Epoch 1/50\n",
            "100/100 - 31s - loss: 0.0276 - acc: 0.9909 - val_loss: 0.0025 - val_acc: 0.9987\n",
            "Epoch 16/50\n",
            "Epoch 1/50\n",
            "100/100 - 31s - loss: 0.0260 - acc: 0.9913 - val_loss: 0.0048 - val_acc: 0.9987\n",
            "Epoch 17/50\n",
            "Epoch 1/50\n",
            "100/100 - 31s - loss: 0.0253 - acc: 0.9917 - val_loss: 0.0032 - val_acc: 0.9981\n",
            "Epoch 18/50\n",
            "Epoch 1/50\n",
            "100/100 - 31s - loss: 0.0242 - acc: 0.9919 - val_loss: 0.0048 - val_acc: 0.9981\n",
            "Epoch 19/50\n",
            "Epoch 1/50\n",
            "100/100 - 31s - loss: 0.0240 - acc: 0.9917 - val_loss: 0.0034 - val_acc: 0.9987\n",
            "Epoch 20/50\n",
            "Epoch 1/50\n",
            "100/100 - 31s - loss: 0.0244 - acc: 0.9917 - val_loss: 0.0086 - val_acc: 0.9975\n",
            "Epoch 21/50\n",
            "Epoch 1/50\n",
            "100/100 - 31s - loss: 0.0232 - acc: 0.9926 - val_loss: 0.0039 - val_acc: 0.9987\n",
            "Epoch 22/50\n",
            "Epoch 1/50\n",
            "100/100 - 31s - loss: 0.0223 - acc: 0.9927 - val_loss: 0.0048 - val_acc: 0.9987\n",
            "Epoch 23/50\n",
            "Epoch 1/50\n",
            "100/100 - 31s - loss: 0.0219 - acc: 0.9930 - val_loss: 0.0058 - val_acc: 0.9987\n",
            "Epoch 24/50\n",
            "Epoch 1/50\n",
            "100/100 - 31s - loss: 0.0222 - acc: 0.9926 - val_loss: 0.0031 - val_acc: 0.9987\n",
            "Epoch 25/50\n",
            "Epoch 1/50\n",
            "100/100 - 31s - loss: 0.0205 - acc: 0.9930 - val_loss: 0.0027 - val_acc: 0.9994\n",
            "Epoch 26/50\n",
            "Epoch 1/50\n",
            "100/100 - 31s - loss: 0.0212 - acc: 0.9930 - val_loss: 0.0018 - val_acc: 0.9994\n",
            "Epoch 27/50\n",
            "Epoch 1/50\n",
            "100/100 - 31s - loss: 0.0207 - acc: 0.9932 - val_loss: 0.0028 - val_acc: 0.9987\n",
            "Epoch 28/50\n",
            "Epoch 1/50\n",
            "100/100 - 31s - loss: 0.0205 - acc: 0.9933 - val_loss: 0.0019 - val_acc: 0.9994\n",
            "Epoch 29/50\n",
            "Epoch 1/50\n",
            "100/100 - 31s - loss: 0.0208 - acc: 0.9932 - val_loss: 0.0024 - val_acc: 0.9994\n",
            "Epoch 30/50\n",
            "Epoch 1/50\n",
            "100/100 - 31s - loss: 0.0199 - acc: 0.9934 - val_loss: 0.0030 - val_acc: 0.9981\n",
            "Epoch 31/50\n",
            "Epoch 1/50\n",
            "100/100 - 31s - loss: 0.0194 - acc: 0.9937 - val_loss: 0.0029 - val_acc: 0.9994\n",
            "Epoch 32/50\n",
            "Epoch 1/50\n",
            "100/100 - 31s - loss: 0.0192 - acc: 0.9936 - val_loss: 0.0058 - val_acc: 0.9987\n",
            "Epoch 33/50\n",
            "Epoch 1/50\n",
            "100/100 - 31s - loss: 0.0183 - acc: 0.9937 - val_loss: 0.0039 - val_acc: 0.9987\n",
            "Epoch 34/50\n",
            "Epoch 1/50\n",
            "100/100 - 31s - loss: 0.0199 - acc: 0.9933 - val_loss: 0.0031 - val_acc: 0.9994\n",
            "Epoch 35/50\n",
            "Epoch 1/50\n",
            "100/100 - 31s - loss: 0.0187 - acc: 0.9939 - val_loss: 0.0032 - val_acc: 0.9994\n",
            "Epoch 36/50\n",
            "Epoch 1/50\n",
            "100/100 - 31s - loss: 0.0183 - acc: 0.9941 - val_loss: 0.0090 - val_acc: 0.9975\n",
            "Epoch 37/50\n",
            "Epoch 1/50\n",
            "100/100 - 31s - loss: 0.0191 - acc: 0.9936 - val_loss: 0.0068 - val_acc: 0.9987\n",
            "Epoch 38/50\n",
            "Epoch 1/50\n",
            "100/100 - 31s - loss: 0.0183 - acc: 0.9940 - val_loss: 0.0040 - val_acc: 0.9987\n",
            "Epoch 39/50\n",
            "Epoch 1/50\n",
            "100/100 - 31s - loss: 0.0174 - acc: 0.9942 - val_loss: 0.0086 - val_acc: 0.9981\n",
            "Epoch 40/50\n",
            "Epoch 1/50\n",
            "100/100 - 31s - loss: 0.0175 - acc: 0.9941 - val_loss: 0.0031 - val_acc: 0.9994\n",
            "Epoch 41/50\n",
            "Epoch 1/50\n",
            "100/100 - 31s - loss: 0.0169 - acc: 0.9944 - val_loss: 0.0018 - val_acc: 0.9994\n",
            "Epoch 42/50\n",
            "Epoch 1/50\n",
            "100/100 - 31s - loss: 0.0173 - acc: 0.9943 - val_loss: 0.0021 - val_acc: 0.9987\n",
            "Epoch 43/50\n",
            "Epoch 1/50\n",
            "100/100 - 31s - loss: 0.0175 - acc: 0.9942 - val_loss: 0.0048 - val_acc: 0.9987\n",
            "Epoch 44/50\n",
            "Epoch 1/50\n",
            "100/100 - 31s - loss: 0.0171 - acc: 0.9941 - val_loss: 0.0010 - val_acc: 0.9994\n",
            "Epoch 45/50\n",
            "Epoch 1/50\n",
            "100/100 - 31s - loss: 0.0167 - acc: 0.9941 - val_loss: 0.0046 - val_acc: 0.9987\n",
            "Epoch 46/50\n",
            "Epoch 1/50\n",
            "100/100 - 31s - loss: 0.0162 - acc: 0.9946 - val_loss: 0.0011 - val_acc: 1.0000\n",
            "Epoch 47/50\n",
            "Epoch 1/50\n",
            "100/100 - 31s - loss: 0.0168 - acc: 0.9945 - val_loss: 0.0013 - val_acc: 0.9994\n",
            "Epoch 48/50\n",
            "Epoch 1/50\n",
            "100/100 - 31s - loss: 0.0156 - acc: 0.9947 - val_loss: 0.0038 - val_acc: 0.9987\n",
            "Epoch 49/50\n",
            "Epoch 1/50\n",
            "100/100 - 31s - loss: 0.0161 - acc: 0.9947 - val_loss: 8.0853e-04 - val_acc: 1.0000\n",
            "Epoch 50/50\n",
            "Epoch 1/50\n",
            "100/100 - 31s - loss: 0.0155 - acc: 0.9946 - val_loss: 9.7551e-04 - val_acc: 0.9994\n"
          ],
          "name": "stdout"
        }
      ]
    },
    {
      "cell_type": "code",
      "metadata": {
        "id": "DBdr6uzDjutJ",
        "colab_type": "code",
        "colab": {
          "base_uri": "https://localhost:8080/",
          "height": 34
        },
        "outputId": "7d58b33c-8e55-4623-b786-8e29ed4155b5"
      },
      "source": [
        "preds_dig=model.predict_classes(x_dig/255)\n",
        "metrics.accuracy_score(preds_dig, y_dig)"
      ],
      "execution_count": 34,
      "outputs": [
        {
          "output_type": "execute_result",
          "data": {
            "text/plain": [
              "0.9021484375"
            ]
          },
          "metadata": {
            "tags": []
          },
          "execution_count": 34
        }
      ]
    },
    {
      "cell_type": "code",
      "metadata": {
        "id": "RnvZp4rrjxQa",
        "colab_type": "code",
        "colab": {}
      },
      "source": [
        "predictions = model.predict_classes(x_test/255.)"
      ],
      "execution_count": 35,
      "outputs": []
    },
    {
      "cell_type": "code",
      "metadata": {
        "id": "VAvdn6tEjzX_",
        "colab_type": "code",
        "colab": {}
      },
      "source": [
        "submission = pd.read_csv('/content/drive/My Drive/ML_Dataset/MNIST_Kannada/sample_submission.csv')"
      ],
      "execution_count": 36,
      "outputs": []
    },
    {
      "cell_type": "code",
      "metadata": {
        "id": "0EHtWitOkBzF",
        "colab_type": "code",
        "colab": {}
      },
      "source": [
        "submission['label'] = predictions"
      ],
      "execution_count": 37,
      "outputs": []
    },
    {
      "cell_type": "code",
      "metadata": {
        "id": "5Ugig2CrkEZj",
        "colab_type": "code",
        "colab": {
          "base_uri": "https://localhost:8080/",
          "height": 204
        },
        "outputId": "d8274d77-50ca-4626-8606-c6a915071568"
      },
      "source": [
        "submission.head()\n"
      ],
      "execution_count": 38,
      "outputs": [
        {
          "output_type": "execute_result",
          "data": {
            "text/html": [
              "<div>\n",
              "<style scoped>\n",
              "    .dataframe tbody tr th:only-of-type {\n",
              "        vertical-align: middle;\n",
              "    }\n",
              "\n",
              "    .dataframe tbody tr th {\n",
              "        vertical-align: top;\n",
              "    }\n",
              "\n",
              "    .dataframe thead th {\n",
              "        text-align: right;\n",
              "    }\n",
              "</style>\n",
              "<table border=\"1\" class=\"dataframe\">\n",
              "  <thead>\n",
              "    <tr style=\"text-align: right;\">\n",
              "      <th></th>\n",
              "      <th>id</th>\n",
              "      <th>label</th>\n",
              "    </tr>\n",
              "  </thead>\n",
              "  <tbody>\n",
              "    <tr>\n",
              "      <th>0</th>\n",
              "      <td>0</td>\n",
              "      <td>3</td>\n",
              "    </tr>\n",
              "    <tr>\n",
              "      <th>1</th>\n",
              "      <td>1</td>\n",
              "      <td>0</td>\n",
              "    </tr>\n",
              "    <tr>\n",
              "      <th>2</th>\n",
              "      <td>2</td>\n",
              "      <td>2</td>\n",
              "    </tr>\n",
              "    <tr>\n",
              "      <th>3</th>\n",
              "      <td>3</td>\n",
              "      <td>6</td>\n",
              "    </tr>\n",
              "    <tr>\n",
              "      <th>4</th>\n",
              "      <td>4</td>\n",
              "      <td>7</td>\n",
              "    </tr>\n",
              "  </tbody>\n",
              "</table>\n",
              "</div>"
            ],
            "text/plain": [
              "   id  label\n",
              "0   0      3\n",
              "1   1      0\n",
              "2   2      2\n",
              "3   3      6\n",
              "4   4      7"
            ]
          },
          "metadata": {
            "tags": []
          },
          "execution_count": 38
        }
      ]
    },
    {
      "cell_type": "code",
      "metadata": {
        "id": "MOhneXrEkJFI",
        "colab_type": "code",
        "colab": {}
      },
      "source": [
        "submission.to_csv(\"submission.csv\",index=False)"
      ],
      "execution_count": 39,
      "outputs": []
    },
    {
      "cell_type": "code",
      "metadata": {
        "id": "I8O1NWQDkK09",
        "colab_type": "code",
        "colab": {}
      },
      "source": [
        ""
      ],
      "execution_count": null,
      "outputs": []
    }
  ]
}